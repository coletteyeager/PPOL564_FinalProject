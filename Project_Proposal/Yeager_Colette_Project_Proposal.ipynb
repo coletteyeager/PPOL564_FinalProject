{
 "cells": [
  {
   "cell_type": "markdown",
   "id": "aefc00cc",
   "metadata": {},
   "source": [
    "# Final Project Proposal\n",
    "### Colette Yeager"
   ]
  },
  {
   "attachments": {},
   "cell_type": "markdown",
   "id": "f17f0e8c",
   "metadata": {},
   "source": [
    "### Project Overview\n",
    "\n",
    "For my final project, I intend to generate an analysis of the various factors that determine election results, as it is useful to determine the most significant elements when planning a campaign. More specifically, I plan to look at data about swing states, primary voter turnout, money raised and spent, previous year’s presidents, and GDP growth over the past several presidential elections and compare it to the percent of votes a presidential candidate has gotten."
   ]
  },
  {
   "attachments": {},
   "cell_type": "markdown",
   "id": "d5771be8",
   "metadata": {},
   "source": [
    "### Data\n",
    "\n",
    "The Wikipedia page on swing states has some data from the past 6 elections$^1$, which I can use to determine which states have been the most crucial in determining the results of the election. I would likely create a plot by state and year, with points reflecting whether or not the swing state voted for the winning party. To get primary election data, I will need to pull data by state for each year and then combine, likely from Ballotpedia.$^2$ For breakdowns of campaign fundraising amounts, I will likely pull data by year.$^3$$^,$$^4$ I can use the Wikipedia list of Presidents to look at information about previous year’s presidents, like previous party and whether there was previously a one or two-term president.$^5$ Statista has some useful data as well – I can obtain data for GDP growth per year$^6$ as well as breakdowns of the share of votes each President has gotten.$^7$\n",
    "\n",
    "This data will be obtained using a mix of methods. A couple of these can be directly downloaded, while others I will be using pd.read_html and Beautiful Soup to pull. I will then be merging several of the datasets with the election results data to be able to visualize how different factors affect the results, so I will likely end with several dataframes."
   ]
  },
  {
   "attachments": {},
   "cell_type": "markdown",
   "id": "ab35350c",
   "metadata": {},
   "source": [
    "### Analysis\n",
    "\n",
    "To complete this project, I will be using many of the scraping techniques we have been working with in class, and might need to experiment with scraping pdfs depending on whether or not I am able to get the data I need from the above links. I will be using the pandas package a lot to manipulate data frames, as well as data visualization tactics to make multiple different types of plots. I plan on using both matplotlib and ggplot, depending on the data frame. Then, I will use linear regression and statistical learning to get a statistical overview of the effect of these factors. I will be making models comparing the percentage won to the other factors and will compare the coefficients for each of the models.\n",
    "\n",
    "My goal for this project is to be able successfully obtain and pull all the data, and to be able to visualize the data in some form. Hopefully, in combining datasets, I will still have enough of a sample size to form a statistically significant regression model."
   ]
  },
  {
   "cell_type": "markdown",
   "id": "ca8cfa0e",
   "metadata": {},
   "source": [
    "***"
   ]
  },
  {
   "attachments": {},
   "cell_type": "markdown",
   "id": "b1cac14c",
   "metadata": {},
   "source": [
    "1: \"Swing State.\" Wikipedia, en.wikipedia.org/wiki/Swing_state.\n",
    "\n",
    "2: \"Primary Partisan Voter Turnout Comparison, 2018 v. 2014.\" Ballotpedia, ballotpedia.org/Primary_partisan_voter_turnout_comparison,_2018_v._2014.\n",
    "\n",
    "3: McMinn, Sean, et al. \"Money Tracker: How Much Trump and Biden Have Raised in the 2020 Election.\" npr, 20 Dec. 2020, www.npr.org/2020/05/20/858347477/money-tracker-how-much-trump-and-biden-have-raised-in-the-2020-election.\n",
    "\n",
    "4: \"Spending: By the Numbers.\" Federal Election Commission, www.fec.gov/data/spending-bythenumbers/.\n",
    "\n",
    "5: \"List of Presidents of the United States.\" Wikipedia, en.wikipedia.org/wiki/List_of_presidents_of_the_United_States.\n",
    "\n",
    "6: O'Neill, Aaron. \"Annual GDP Growth for the United States 1930-2020.\" Statista, 4 Oct. 2021, www.statista.com/statistics/996758/rea-gdp-growth-united-states-1930-2019/.\n",
    "\n",
    "7: \"Share of Electoral and Popular Votes by Each United States President 1789-2020.\" Statista, 18 Feb. 2021, www.statista.com/statistics/1034688/share-electoral-popular-votes-each-president-since-1789/."
   ]
  }
 ],
 "metadata": {
  "kernelspec": {
   "display_name": "Python 3",
   "language": "python",
   "name": "python3"
  },
  "language_info": {
   "codemirror_mode": {
    "name": "ipython",
    "version": 3
   },
   "file_extension": ".py",
   "mimetype": "text/x-python",
   "name": "python",
   "nbconvert_exporter": "python",
   "pygments_lexer": "ipython3",
   "version": "3.8.8"
  }
 },
 "nbformat": 4,
 "nbformat_minor": 5
}
